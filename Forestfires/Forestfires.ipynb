{
 "cells": [
  {
   "cell_type": "code",
   "execution_count": 1,
   "metadata": {},
   "outputs": [],
   "source": [
    "import numpy as np\n",
    "import pandas as pd\n",
    "\n",
    "from sklearn import linear_model\n",
    "from sklearn.model_selection import train_test_split\n",
    "from sklearn.metrics import mean_squared_error, mean_absolute_error, r2_score\n",
    "\n",
    "import matplotlib.pyplot as plt\n",
    "%matplotlib inline"
   ]
  },
  {
   "cell_type": "markdown",
   "metadata": {},
   "source": [
    "# Lectura del dataset"
   ]
  },
  {
   "cell_type": "code",
   "execution_count": 2,
   "metadata": {},
   "outputs": [],
   "source": [
    "# Lectura del csv\n",
    "forest_df = pd.read_csv( './data/forestfires.csv', sep = ',' )"
   ]
  },
  {
   "cell_type": "code",
   "execution_count": 3,
   "metadata": {},
   "outputs": [
    {
     "data": {
      "text/plain": [
       "(517, 13)"
      ]
     },
     "execution_count": 3,
     "metadata": {},
     "output_type": "execute_result"
    }
   ],
   "source": [
    "# Dimensión del datasaet\n",
    "forest_df.shape"
   ]
  },
  {
   "cell_type": "code",
   "execution_count": 4,
   "metadata": {},
   "outputs": [
    {
     "data": {
      "text/plain": [
       "X          int64\n",
       "Y          int64\n",
       "month     object\n",
       "day       object\n",
       "FFMC     float64\n",
       "DMC      float64\n",
       "DC       float64\n",
       "ISI      float64\n",
       "temp     float64\n",
       "RH         int64\n",
       "wind     float64\n",
       "rain     float64\n",
       "area     float64\n",
       "dtype: object"
      ]
     },
     "execution_count": 4,
     "metadata": {},
     "output_type": "execute_result"
    }
   ],
   "source": [
    "# Tipo de datos de cada columna\n",
    "forest_df.dtypes"
   ]
  },
  {
   "cell_type": "code",
   "execution_count": 5,
   "metadata": {},
   "outputs": [
    {
     "data": {
      "text/html": [
       "<div>\n",
       "<style scoped>\n",
       "    .dataframe tbody tr th:only-of-type {\n",
       "        vertical-align: middle;\n",
       "    }\n",
       "\n",
       "    .dataframe tbody tr th {\n",
       "        vertical-align: top;\n",
       "    }\n",
       "\n",
       "    .dataframe thead th {\n",
       "        text-align: right;\n",
       "    }\n",
       "</style>\n",
       "<table border=\"1\" class=\"dataframe\">\n",
       "  <thead>\n",
       "    <tr style=\"text-align: right;\">\n",
       "      <th></th>\n",
       "      <th>X</th>\n",
       "      <th>Y</th>\n",
       "      <th>month</th>\n",
       "      <th>day</th>\n",
       "      <th>FFMC</th>\n",
       "      <th>DMC</th>\n",
       "      <th>DC</th>\n",
       "      <th>ISI</th>\n",
       "      <th>temp</th>\n",
       "      <th>RH</th>\n",
       "      <th>wind</th>\n",
       "      <th>rain</th>\n",
       "      <th>area</th>\n",
       "    </tr>\n",
       "  </thead>\n",
       "  <tbody>\n",
       "    <tr>\n",
       "      <th>0</th>\n",
       "      <td>7</td>\n",
       "      <td>5</td>\n",
       "      <td>mar</td>\n",
       "      <td>fri</td>\n",
       "      <td>86.2</td>\n",
       "      <td>26.2</td>\n",
       "      <td>94.3</td>\n",
       "      <td>5.1</td>\n",
       "      <td>8.2</td>\n",
       "      <td>51</td>\n",
       "      <td>6.7</td>\n",
       "      <td>0.0</td>\n",
       "      <td>0.0</td>\n",
       "    </tr>\n",
       "    <tr>\n",
       "      <th>1</th>\n",
       "      <td>7</td>\n",
       "      <td>4</td>\n",
       "      <td>oct</td>\n",
       "      <td>tue</td>\n",
       "      <td>90.6</td>\n",
       "      <td>35.4</td>\n",
       "      <td>669.1</td>\n",
       "      <td>6.7</td>\n",
       "      <td>18.0</td>\n",
       "      <td>33</td>\n",
       "      <td>0.9</td>\n",
       "      <td>0.0</td>\n",
       "      <td>0.0</td>\n",
       "    </tr>\n",
       "    <tr>\n",
       "      <th>2</th>\n",
       "      <td>7</td>\n",
       "      <td>4</td>\n",
       "      <td>oct</td>\n",
       "      <td>sat</td>\n",
       "      <td>90.6</td>\n",
       "      <td>43.7</td>\n",
       "      <td>686.9</td>\n",
       "      <td>6.7</td>\n",
       "      <td>14.6</td>\n",
       "      <td>33</td>\n",
       "      <td>1.3</td>\n",
       "      <td>0.0</td>\n",
       "      <td>0.0</td>\n",
       "    </tr>\n",
       "    <tr>\n",
       "      <th>3</th>\n",
       "      <td>8</td>\n",
       "      <td>6</td>\n",
       "      <td>mar</td>\n",
       "      <td>fri</td>\n",
       "      <td>91.7</td>\n",
       "      <td>33.3</td>\n",
       "      <td>77.5</td>\n",
       "      <td>9.0</td>\n",
       "      <td>8.3</td>\n",
       "      <td>97</td>\n",
       "      <td>4.0</td>\n",
       "      <td>0.2</td>\n",
       "      <td>0.0</td>\n",
       "    </tr>\n",
       "    <tr>\n",
       "      <th>4</th>\n",
       "      <td>8</td>\n",
       "      <td>6</td>\n",
       "      <td>mar</td>\n",
       "      <td>sun</td>\n",
       "      <td>89.3</td>\n",
       "      <td>51.3</td>\n",
       "      <td>102.2</td>\n",
       "      <td>9.6</td>\n",
       "      <td>11.4</td>\n",
       "      <td>99</td>\n",
       "      <td>1.8</td>\n",
       "      <td>0.0</td>\n",
       "      <td>0.0</td>\n",
       "    </tr>\n",
       "  </tbody>\n",
       "</table>\n",
       "</div>"
      ],
      "text/plain": [
       "   X  Y month  day  FFMC   DMC     DC  ISI  temp  RH  wind  rain  area\n",
       "0  7  5   mar  fri  86.2  26.2   94.3  5.1   8.2  51   6.7   0.0   0.0\n",
       "1  7  4   oct  tue  90.6  35.4  669.1  6.7  18.0  33   0.9   0.0   0.0\n",
       "2  7  4   oct  sat  90.6  43.7  686.9  6.7  14.6  33   1.3   0.0   0.0\n",
       "3  8  6   mar  fri  91.7  33.3   77.5  9.0   8.3  97   4.0   0.2   0.0\n",
       "4  8  6   mar  sun  89.3  51.3  102.2  9.6  11.4  99   1.8   0.0   0.0"
      ]
     },
     "execution_count": 5,
     "metadata": {},
     "output_type": "execute_result"
    }
   ],
   "source": [
    "# Impresión de los primeros 5 registros del dataset\n",
    "forest_df.head()"
   ]
  },
  {
   "cell_type": "code",
   "execution_count": 6,
   "metadata": {},
   "outputs": [
    {
     "data": {
      "text/plain": [
       "count     517.000000\n",
       "mean       12.847292\n",
       "std        63.655818\n",
       "min         0.000000\n",
       "25%         0.000000\n",
       "50%         0.520000\n",
       "75%         6.570000\n",
       "max      1090.840000\n",
       "Name: area, dtype: float64"
      ]
     },
     "execution_count": 6,
     "metadata": {},
     "output_type": "execute_result"
    }
   ],
   "source": [
    "forest_df[ 'area' ].describe()"
   ]
  },
  {
   "cell_type": "code",
   "execution_count": 7,
   "metadata": {},
   "outputs": [
    {
     "data": {
      "text/plain": [
       "<matplotlib.axes._subplots.AxesSubplot at 0x7ff03dad4dd0>"
      ]
     },
     "execution_count": 7,
     "metadata": {},
     "output_type": "execute_result"
    },
    {
     "data": {
      "image/png": "[encoded data removed]",
      "text/plain": [
       "<Figure size 432x288 with 1 Axes>"
      ]
     },
     "metadata": {
      "needs_background": "light"
     },
     "output_type": "display_data"
    }
   ],
   "source": [
    "forest_df[ 'area' ].hist( bins = 30, log = True )"
   ]
  },
  {
   "cell_type": "markdown",
   "metadata": {},
   "source": [
    "# Partición del dataset en entrenamiento y prueba"
   ]
  },
  {
   "cell_type": "code",
   "execution_count": 8,
   "metadata": {},
   "outputs": [],
   "source": [
    "# Creación de la matriz que representa las características de cada registro\n",
    "X = forest_df[ [ 'X', 'Y', 'FFMC', 'DMC', 'DC', 'ISI', 'temp', 'RH', 'wind', 'rain' ] ]"
   ]
  },
  {
   "cell_type": "code",
   "execution_count": 9,
   "metadata": {},
   "outputs": [],
   "source": [
    "# Creación del vector que representa la variable objetivo\n",
    "Y = forest_df[ 'area' ]"
   ]
  },
  {
   "cell_type": "code",
   "execution_count": 10,
   "metadata": {},
   "outputs": [],
   "source": [
    "# División la matriz de caracteristicas y el vector objetivo en los conjuntos de entrenamiento (70%) y prueba (30%)\n",
    "X_train, X_test, Y_train, Y_test = train_test_split( X, Y, test_size = 0.3 )"
   ]
  },
  {
   "cell_type": "code",
   "execution_count": 11,
   "metadata": {},
   "outputs": [
    {
     "data": {
      "text/plain": [
       "(361, 10)"
      ]
     },
     "execution_count": 11,
     "metadata": {},
     "output_type": "execute_result"
    }
   ],
   "source": [
    "X_train.shape"
   ]
  },
  {
   "cell_type": "code",
   "execution_count": 12,
   "metadata": {},
   "outputs": [
    {
     "data": {
      "text/plain": [
       "(156, 10)"
      ]
     },
     "execution_count": 12,
     "metadata": {},
     "output_type": "execute_result"
    }
   ],
   "source": [
    "X_test.shape"
   ]
  },
  {
   "cell_type": "markdown",
   "metadata": {},
   "source": [
    "# Entrenamiento del modelo"
   ]
  },
  {
   "cell_type": "code",
   "execution_count": 13,
   "metadata": {},
   "outputs": [],
   "source": [
    "# Creación del modelo de regresión lineal\n",
    "regr = linear_model.LinearRegression()"
   ]
  },
  {
   "cell_type": "code",
   "execution_count": 14,
   "metadata": {},
   "outputs": [
    {
     "data": {
      "text/plain": [
       "LinearRegression(copy_X=True, fit_intercept=True, n_jobs=None, normalize=False)"
      ]
     },
     "execution_count": 14,
     "metadata": {},
     "output_type": "execute_result"
    }
   ],
   "source": [
    "# Ajuste del modelo a partir de los datos de entrenamiento\n",
    "regr.fit( X_train, Y_train )"
   ]
  },
  {
   "cell_type": "code",
   "execution_count": 15,
   "metadata": {},
   "outputs": [
    {
     "data": {
      "text/plain": [
       "array([ 1.48609023,  1.02294791, -0.11549751,  0.12553545, -0.01115935,\n",
       "       -0.33538461,  0.42493315, -0.23521905,  0.84798872, -8.48010567])"
      ]
     },
     "execution_count": 15,
     "metadata": {},
     "output_type": "execute_result"
    }
   ],
   "source": [
    "# Coeficientes del modelo\n",
    "regr.coef_"
   ]
  },
  {
   "cell_type": "code",
   "execution_count": 16,
   "metadata": {},
   "outputs": [
    {
     "data": {
      "text/plain": [
       "4.861974331819222"
      ]
     },
     "execution_count": 16,
     "metadata": {},
     "output_type": "execute_result"
    }
   ],
   "source": [
    "# Término independiente\n",
    "regr.intercept_ "
   ]
  },
  {
   "cell_type": "markdown",
   "metadata": {},
   "source": [
    "# Evaluación del modelo"
   ]
  },
  {
   "cell_type": "code",
   "execution_count": 17,
   "metadata": {},
   "outputs": [],
   "source": [
    "# Prediciendo a partir de los datos de prueba\n",
    "predictions = regr.predict( X_test )"
   ]
  },
  {
   "cell_type": "code",
   "execution_count": 18,
   "metadata": {},
   "outputs": [
    {
     "data": {
      "text/plain": [
       "array([ 3.22388949e+01,  1.96014744e+01,  4.52546393e+00,  1.06360767e+01,\n",
       "        8.04769017e+00,  1.55695622e+01,  5.16913378e+00,  1.83352661e+01,\n",
       "        1.88508192e+01,  1.21598308e+01,  1.09887265e+01,  1.92141493e+01,\n",
       "        1.58350478e+01,  9.78944316e+00,  2.43441830e+01,  1.71749065e+01,\n",
       "        7.60817189e+00,  2.07087674e+01,  8.39259214e+00,  1.14968866e+01,\n",
       "        1.91917666e+01,  9.94024496e+00,  1.16066113e+01,  4.13809912e+00,\n",
       "        9.21561431e+00,  2.70282096e+01,  4.08693162e+00,  2.97829668e+01,\n",
       "        3.73292098e+00,  5.97629236e+00,  1.20612784e+01,  2.27043599e+01,\n",
       "        1.42374610e+01,  7.57623416e+00,  3.55289864e+00,  4.36168018e+00,\n",
       "       -3.36073082e+01,  4.03787862e+00,  4.56412154e+00,  1.53036306e+01,\n",
       "        7.16400045e+00,  1.14518919e+01,  1.32700817e+01,  7.36588402e+00,\n",
       "        2.77319231e+01,  5.54454098e+00,  1.67174362e+01,  2.35448921e+01,\n",
       "        1.36200939e+01,  2.84055136e+01,  2.58628040e+00,  5.53148516e+00,\n",
       "        1.43010402e+01,  3.74718974e+01,  5.96669855e+00,  1.08257498e+01,\n",
       "        2.25788077e+01, -2.03720456e+00,  4.57174922e+00, -6.94446166e+00,\n",
       "        1.68753307e+01,  6.11785105e+00,  1.59107194e+01,  7.58187467e+00,\n",
       "        7.66120266e+00,  2.36465466e+01,  9.31235017e+00,  2.95251119e+01,\n",
       "       -1.52609142e+00,  1.29122916e+01,  7.00271565e+00,  1.03115929e+01,\n",
       "        1.49471326e+01,  1.85906168e+01, -2.67040306e+00,  1.24746915e+01,\n",
       "        1.02650614e+01,  1.37108422e+01,  6.54924569e+00,  6.36525326e+00,\n",
       "        1.13450117e+01,  1.24703423e+01,  3.78216447e+00,  3.35217904e+01,\n",
       "        2.61396827e+01,  6.92060192e-01, -1.25338168e+00,  1.48140210e+01,\n",
       "        2.00800689e+01,  6.94506614e+00,  1.36353038e+01,  1.11737495e+01,\n",
       "        2.16973299e+01,  2.19932971e+00,  1.33374028e+01,  2.21657950e+01,\n",
       "        1.72807824e+01,  6.21822334e+00,  1.14702405e+01,  5.27380539e+00,\n",
       "        9.80811936e+00,  7.92046243e+00,  1.20282191e+01, -6.94116328e-01,\n",
       "        8.38697261e+00,  6.51548941e+00,  1.98499831e+01,  8.11950546e+00,\n",
       "        1.15480746e+01,  3.83527700e+00,  3.03289203e+01,  1.34013680e+01,\n",
       "        1.38156926e+01,  1.00046371e+01,  8.50518295e+00,  8.46356478e+00,\n",
       "        9.34209502e+00,  2.10401959e+00,  1.29810226e+01,  8.69535926e+00,\n",
       "        9.98069125e+00,  1.77558136e+01,  2.32509872e+01,  7.74351410e+00,\n",
       "        2.22643520e+01,  2.55022145e+01,  1.38852556e+01, -8.23959247e+00,\n",
       "        9.24649598e+00,  6.94369531e+00,  7.67181174e+00,  2.56456378e+00,\n",
       "        3.25331561e+00,  7.67181174e+00,  1.45263364e+01, -2.15893427e+00,\n",
       "        1.54854637e+01,  4.90032363e+00, -5.54743877e+00, -2.43478050e+00,\n",
       "        4.71340826e+00,  3.23732690e+01,  7.99101242e+00,  3.21733551e+01,\n",
       "        1.34977647e+01,  2.42878684e+00,  7.90631526e+00,  1.35368813e+01,\n",
       "       -2.13784958e+00, -1.13329221e+00,  1.04844001e+01,  2.13935355e+01,\n",
       "        1.21873656e+01,  1.56678288e+01,  1.78740958e+01, -2.21258628e-02])"
      ]
     },
     "execution_count": 18,
     "metadata": {},
     "output_type": "execute_result"
    }
   ],
   "source": [
    "predictions"
   ]
  },
  {
   "cell_type": "code",
   "execution_count": 19,
   "metadata": {},
   "outputs": [
    {
     "data": {
      "text/plain": [
       "23.106025341159373"
      ]
     },
     "execution_count": 19,
     "metadata": {},
     "output_type": "execute_result"
    }
   ],
   "source": [
    "# Error absoluto medio\n",
    "mean_absolute_error( Y_test, predictions )"
   ]
  },
  {
   "cell_type": "code",
   "execution_count": 20,
   "metadata": {},
   "outputs": [
    {
     "data": {
      "text/plain": [
       "8476.251053953747"
      ]
     },
     "execution_count": 20,
     "metadata": {},
     "output_type": "execute_result"
    }
   ],
   "source": [
    "# Error cuadrático medio\n",
    "mean_squared_error( Y_test, predictions )"
   ]
  },
  {
   "cell_type": "code",
   "execution_count": 21,
   "metadata": {},
   "outputs": [
    {
     "data": {
      "text/plain": [
       "92.06655773924507"
      ]
     },
     "execution_count": 21,
     "metadata": {},
     "output_type": "execute_result"
    }
   ],
   "source": [
    "# Raiz del error cuadrático medio\n",
    "np.sqrt( mean_squared_error( Y_test, predictions ) )"
   ]
  },
  {
   "cell_type": "code",
   "execution_count": 22,
   "metadata": {},
   "outputs": [
    {
     "data": {
      "text/plain": [
       "0.004267115141605271"
      ]
     },
     "execution_count": 22,
     "metadata": {},
     "output_type": "execute_result"
    }
   ],
   "source": [
    "# Coeficiente de determinación\n",
    "r2_score( Y_test, predictions )"
   ]
  },
  {
   "cell_type": "markdown",
   "metadata": {},
   "source": [
    "# ¿Es posible disminuir el error del modelo?"
   ]
  },
  {
   "cell_type": "raw",
   "metadata": {},
   "source": [
    "Analice los siguientes aspectos del modelo e intente ajustarlos según sea el caso:\n",
    "- Son todas las variables de entrada relevantes para realizar la predicción? Qué se puede decir de los coeficientes que resultan de cada una?\n",
    "- Los atributos utilizados se encuentran en la misma escala?\n",
    "- Existe una alta correlación entre los atributos utitilizados para la predicción? Cuáles tienen una mayor correlación con el valor a predecir?"
   ]
  },
  {
   "cell_type": "code",
   "execution_count": null,
   "metadata": {},
   "outputs": [],
   "source": []
  }
 ],
 "metadata": {
  "kernelspec": {
   "display_name": "Python 3",
   "language": "python",
   "name": "python3"
  },
  "language_info": {
   "codemirror_mode": {
    "name": "ipython",
    "version": 3
   },
   "file_extension": ".py",
   "mimetype": "text/x-python",
   "name": "python",
   "nbconvert_exporter": "python",
   "pygments_lexer": "ipython3",
   "version": "3.7.6"
  }
 },
 "nbformat": 4,
 "nbformat_minor": 4
}
